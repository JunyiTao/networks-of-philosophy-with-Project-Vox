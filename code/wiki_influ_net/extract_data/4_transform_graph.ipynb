{
 "cells": [
  {
   "cell_type": "code",
   "execution_count": 2,
   "metadata": {},
   "outputs": [],
   "source": [
    "import json"
   ]
  },
  {
   "cell_type": "markdown",
   "metadata": {},
   "source": [
    "### Transform the data\n",
    "\n",
    "Only keep the used information for mapping; do not overcomplite the mapping process unnecessarily"
   ]
  },
  {
   "cell_type": "markdown",
   "metadata": {},
   "source": [
    "Simplify the dataset"
   ]
  },
  {
   "cell_type": "code",
   "execution_count": null,
   "metadata": {},
   "outputs": [],
   "source": [
    "# load the full data\n",
    "with open('info_lists/philo_info_list.json', 'r') as f:\n",
    "  ent_info_list = json.load(f)"
   ]
  },
  {
   "cell_type": "code",
   "execution_count": null,
   "metadata": {},
   "outputs": [
    {
     "name": "stdout",
     "output_type": "stream",
     "text": [
      "True\n"
     ]
    }
   ],
   "source": [
    "data = []\n",
    "for item in ent_info_list:\n",
    "    info_dict = {\n",
    "        \"entity\": item[\"entity\"],\n",
    "        \"wikiPageID\": item[\"dbpedia_info\"][\"wikiPageID\"],\n",
    "        \"referred_name\": list( set( item[\"accessible_label\"] ) ),\n",
    "        \"db_birthYear\": item[\"dbpedia_info\"][\"birthYear\"],\n",
    "        \"listed_birthYear\": item[\"listed_info\"][\"time\"],\n",
    "\n",
    "        \"gender_listed\": item[\"gender_listed\"],\n",
    "        \"inclusion\": item[\"inclusion\"],\n",
    "        \n",
    "        \"wiki_url\": item[\"wiki_url\"],\n",
    "        \"db_url\": item[\"db_url\"],\n",
    "        \n",
    "        \"db_influ\": item[\"dbpedia_info\"][\"db_influence_record\"][\"influences\"],\n",
    "        \"db_influBy\": item[\"dbpedia_info\"][\"db_influence_record\"][\"influencedBy\"],\n",
    "        \"db_merg_influ\": item[\"dbpedia_info\"][\"db_influence_record\"][\"influence_merged\"],\n",
    "        \"db_merg_influBy\": item[\"dbpedia_info\"][\"db_influence_record\"][\"influencedBy_merged\"],\n",
    "        \"infer_influ\": item[\"infered_info\"][\"influence\"],\n",
    "        \"infer_influBy\": item[\"infered_info\"][\"influencedBy\"]\n",
    "    }\n",
    "\n",
    "    data.append(info_dict)\n",
    "\n",
    "print(len(ent_info_list) == len(data))"
   ]
  },
  {
   "cell_type": "code",
   "execution_count": null,
   "metadata": {},
   "outputs": [],
   "source": [
    "with open('info_lists/for_graph/philo_info_simp_list.json', 'w') as outfile:\n",
    "    json.dump(data, outfile, indent=4)"
   ]
  },
  {
   "cell_type": "markdown",
   "metadata": {},
   "source": []
  },
  {
   "cell_type": "code",
   "execution_count": null,
   "metadata": {},
   "outputs": [],
   "source": [
    "with open('info_lists/for_graph/philo_info_simp_list.json', 'r') as f:\n",
    "  philo_info_simp_list = json.load(f)"
   ]
  },
  {
   "cell_type": "code",
   "execution_count": null,
   "metadata": {},
   "outputs": [
    {
     "data": {
      "text/plain": [
       "dict_keys(['entity', 'wikiPageID', 'referred_name', 'db_birthYear', 'listed_birthYear', 'gender_listed', 'inclusion', 'wiki_url', 'db_url', 'db_influ', 'db_influBy', 'db_merg_influ', 'db_merg_influBy', 'infer_influ', 'infer_influBy'])"
      ]
     },
     "metadata": {},
     "output_type": "display_data"
    }
   ],
   "source": [
    "philo_info_simp_list[0].keys()"
   ]
  },
  {
   "cell_type": "markdown",
   "metadata": {},
   "source": [
    "make data into graph"
   ]
  },
  {
   "cell_type": "code",
   "execution_count": 3,
   "metadata": {},
   "outputs": [
    {
     "name": "stdout",
     "output_type": "stream",
     "text": [
      "1. Data selected\n",
      "2. Node map built\n",
      "3. Graph built\n",
      "Network density: 0.0006175002758146267\n",
      "4. Scores calculated\n",
      "5. Graph json built\n",
      "=> Done: graph_data/transformed_data/graph_mainincl_dbinflu_pagerank.js\n",
      "1. Data selected\n",
      "2. Node map built\n",
      "3. Graph built\n",
      "Network density: 0.0005060370243043619\n",
      "4. Scores calculated\n",
      "5. Graph json built\n",
      "=> Done: graph_data/transformed_data/graph_full_dbinflu_pagerank.js\n",
      "1. Data selected\n",
      "2. Node map built\n",
      "3. Graph built\n",
      "Network density: 0.0010349928639143253\n",
      "4. Scores calculated\n",
      "5. Graph json built\n",
      "=> Done: graph_data/transformed_data/graph_full_inferinflu_pagerank.js\n",
      "1. Data selected\n",
      "2. Node map built\n",
      "3. Graph built\n",
      "Network density: 0.0010349928639143253\n",
      "4. Scores calculated\n",
      "5. Graph json built\n",
      "=> Done: graph_data/transformed_data/graph_full_inferinflu_centrbetw.js\n",
      "1. Data selected\n",
      "2. Node map built\n",
      "3. Graph built\n",
      "Network density: 0.0010349928639143253\n",
      "4. Scores calculated\n",
      "5. Graph json built\n",
      "=> Done: graph_data/transformed_data/graph_full_inferinflu_centrclos.js\n",
      "1. Data selected\n",
      "2. Node map built\n",
      "3. Graph built\n",
      "Network density: 0.0010349928639143253\n",
      "4. Scores calculated\n",
      "5. Graph json built\n",
      "=> Done: graph_data/transformed_data/graph_full_inferinflu_centrdegr.js\n",
      "1. Data selected\n",
      "2. Node map built\n",
      "3. Graph built\n",
      "Network density: 0.0006587615283267457\n",
      "4. Scores calculated\n",
      "5. Graph json built\n",
      "=> Done: graph_data/transformed_data/graph_womenincl_inferinflu_centrdegr.js\n"
     ]
    }
   ],
   "source": [
    "from function import prep_data\n",
    "from function import build_node_map\n",
    "from function import build_graph\n",
    "from function import node_metrics\n",
    "from function import build_graph_json\n",
    "from function import transform\n",
    "\n",
    "\n",
    "with open('info_lists/for_graph/philo_info_simp_list.json', 'r') as f:\n",
    "  data = json.load(f)\n",
    "# transform(data, incl_label, list_label, score_label)\n",
    "\n",
    "transform(data, \"main: incl\", \"db_influ\", \"pagerank\")\n",
    "# transform(data, \"women: included\", \"db_influ\", \"pagerank\")\n",
    "\n",
    "transform(data, \"\", \"db_influ\", \"pagerank\")\n",
    "# transform(data, \"\", \"db_merg_influ\", \"pagerank\")\n",
    "\n",
    "# transform(data, \"\", \"db_influBy\", \"pagerank\")\n",
    "transform(data, \"\", \"infer_influ\", \"pagerank\")\n",
    "transform(data, \"\", \"infer_influ\", \"centr_betw\")\n",
    "transform(data, \"\", \"infer_influ\", \"centr_clos\")\n",
    "transform(data, \"\", \"infer_influ\", \"centr_degr\")\n",
    "\n",
    "transform(data, \"women: incl\", \"infer_influ\", \"centr_degr\")\n",
    "\n",
    "# \"main: excluded; women: included\", \"\" means everthing"
   ]
  },
  {
   "cell_type": "markdown",
   "metadata": {},
   "source": [
    "Do the experiments"
   ]
  },
  {
   "cell_type": "markdown",
   "metadata": {},
   "source": [
    "Variables: \n",
    "\n",
    "|-|-|-|-|-|-|\n",
    "|wiki | 12-20-2020 | philo list | ignore misisng page and born| influ list | PageRank| only philosophers"
   ]
  },
  {
   "cell_type": "markdown",
   "metadata": {},
   "source": [
    "### Graph metrics"
   ]
  },
  {
   "cell_type": "code",
   "execution_count": null,
   "metadata": {},
   "outputs": [],
   "source": [
    "# here is a strange corner cases: 23758\n",
    "toadd_dict = {}\n",
    "for item in data:\n",
    "    # add nodes\n",
    "    if  item['wikiPageID']:\n",
    "        try:\n",
    "            # d = {'id': item['wikiPageID'],  'name': item['entity'], 'born': item[\"listed_info\"][\"time\"], 'gender': item['gender_listed']}\n",
    "            test = scores[int(item['wikiPageID'])]\n",
    "        except:\n",
    "            toadd_dict = item\n",
    "\n",
    "# here is why: it is not included in the score list\n",
    "# probably because I didn't correct it in the first place\n",
    "toadd_dict\n",
    "# add back to the data?\n",
    "data.append(toadd_dict)"
   ]
  },
  {
   "cell_type": "code",
   "execution_count": null,
   "metadata": {},
   "outputs": [],
   "source": [
    "for item in data:\n",
    "    if item['wikiPageID'] == \"23758\":\n",
    "        print(item[\"entity\"])"
   ]
  },
  {
   "cell_type": "markdown",
   "metadata": {},
   "source": [
    "## Sustainability\n",
    "\n",
    "1. How to deal with changed cornercases ?\n",
    "\n",
    "2. make the programs/codes as clear as possible"
   ]
  },
  {
   "cell_type": "code",
   "execution_count": null,
   "metadata": {},
   "outputs": [
    {
     "ename": "NameError",
     "evalue": "name 'checked_philo_dbpedia_info_list' is not defined",
     "output_type": "error",
     "traceback": [
      "\u001b[1;31m---------------------------------------------------------------------------\u001b[0m\n",
      "\u001b[1;31mNameError\u001b[0m                                 Traceback (most recent call last)\n",
      "\u001b[1;32m<ipython-input-18-5529ab754948>\u001b[0m in \u001b[0;36m<module>\u001b[1;34m\u001b[0m\n",
      "\u001b[0;32m      1\u001b[0m \u001b[1;32mimport\u001b[0m \u001b[0mnltk\u001b[0m\u001b[1;33m\u001b[0m\u001b[1;33m\u001b[0m\u001b[0m\n",
      "\u001b[0;32m      2\u001b[0m \u001b[1;33m\u001b[0m\u001b[0m\n",
      "\u001b[1;32m----> 3\u001b[1;33m \u001b[1;32mfor\u001b[0m \u001b[0mitem\u001b[0m \u001b[1;32min\u001b[0m \u001b[0mchecked_philo_dbpedia_info_list\u001b[0m\u001b[1;33m:\u001b[0m\u001b[1;33m\u001b[0m\u001b[1;33m\u001b[0m\u001b[0m\n",
      "\u001b[0m\u001b[0;32m      4\u001b[0m         \u001b[0mabstract\u001b[0m \u001b[1;33m=\u001b[0m \u001b[0mitem\u001b[0m\u001b[1;33m[\u001b[0m\u001b[1;34m'abstract'\u001b[0m\u001b[1;33m]\u001b[0m\u001b[1;33m\u001b[0m\u001b[1;33m\u001b[0m\u001b[0m\n",
      "\u001b[0;32m      5\u001b[0m         \u001b[0mprint\u001b[0m\u001b[1;33m(\u001b[0m\u001b[0mitem\u001b[0m\u001b[1;33m[\u001b[0m\u001b[1;34m\"entity\"\u001b[0m\u001b[1;33m]\u001b[0m\u001b[1;33m)\u001b[0m\u001b[1;33m\u001b[0m\u001b[1;33m\u001b[0m\u001b[0m\n",
      "\n",
      "\u001b[1;31mNameError\u001b[0m: name 'checked_philo_dbpedia_info_list' is not defined"
     ]
    }
   ],
   "source": [
    "import nltk\n",
    "\n",
    "for item in checked_philo_dbpedia_info_list:\n",
    "        abstract = item['abstract']\n",
    "        print()"
   ]
  }
 ],
 "metadata": {
  "kernelspec": {
   "display_name": "Python 3.8.5 ('base')",
   "language": "python",
   "name": "python3"
  },
  "language_info": {
   "codemirror_mode": {
    "name": "ipython",
    "version": 3
   },
   "file_extension": ".py",
   "mimetype": "text/x-python",
   "name": "python",
   "nbconvert_exporter": "python",
   "pygments_lexer": "ipython3",
   "version": "3.8.5"
  },
  "orig_nbformat": 4,
  "vscode": {
   "interpreter": {
    "hash": "75d3cd09312a5c5e4ea9ca503f0de7315f2a6856e8eb6e1d90df3dbfd3ff1a46"
   }
  }
 },
 "nbformat": 4,
 "nbformat_minor": 2
}
